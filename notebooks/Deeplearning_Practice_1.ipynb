{
  "nbformat": 4,
  "nbformat_minor": 0,
  "metadata": {
    "colab": {
      "provenance": []
    },
    "kernelspec": {
      "name": "python3",
      "display_name": "Python 3"
    },
    "language_info": {
      "name": "python"
    }
  },
  "cells": [
    {
      "cell_type": "markdown",
      "source": [
        "\n",
        "$sigmoid(x) = \\frac{1}{1+e^{-x}}$ is sometimes also known as the logistic function. It is a non-linear function used not only in Machine Learning (Logistic Regression), but also in Deep Learning.\n",
        "\n",
        "Let's first build a function to compute $sigmoid(x)$."
      ],
      "metadata": {
        "id": "ice7hpl7aZm2"
      }
    },
    {
      "cell_type": "code",
      "source": [
        "import math\n",
        "import numpy as np\n",
        "\n",
        "x = np.array([1, 2, 3])\n",
        "# try to run this first line\n",
        "#print(math.exp(x))\n",
        "print(np.exp(x))\n"
      ],
      "metadata": {
        "colab": {
          "base_uri": "https://localhost:8080/"
        },
        "id": "zZObZh59jRVa",
        "outputId": "7164080e-115e-4d83-f809-27b1e2c03b2a"
      },
      "execution_count": 26,
      "outputs": [
        {
          "output_type": "stream",
          "name": "stdout",
          "text": [
            "[ 2.71828183  7.3890561  20.08553692]\n"
          ]
        }
      ]
    },
    {
      "cell_type": "code",
      "execution_count": 27,
      "metadata": {
        "colab": {
          "base_uri": "https://localhost:8080/"
        },
        "id": "K_u8HmIjZxvr",
        "outputId": "7192f35a-f1e5-4190-f1c3-38c67234ae47"
      },
      "outputs": [
        {
          "output_type": "execute_result",
          "data": {
            "text/plain": [
              "0.9525741268224334"
            ]
          },
          "metadata": {},
          "execution_count": 27
        }
      ],
      "source": [
        "# using math package\n",
        "def basic_sigmoid(x):\n",
        "    return 1/(1+math.exp(-x))\n",
        "\n",
        "basic_sigmoid(3)"
      ]
    },
    {
      "cell_type": "code",
      "source": [
        "# using numpy package\n",
        "def sigmoid(x):\n",
        "    return 1/(1+np.exp(-x))\n",
        "\n",
        "sigmoid(x)"
      ],
      "metadata": {
        "colab": {
          "base_uri": "https://localhost:8080/"
        },
        "id": "wwZBhSgQj1Ra",
        "outputId": "38e7ecf6-9128-4984-dd66-36b0d0fb9d65"
      },
      "execution_count": 28,
      "outputs": [
        {
          "output_type": "execute_result",
          "data": {
            "text/plain": [
              "array([0.73105858, 0.88079708, 0.95257413])"
            ]
          },
          "metadata": {},
          "execution_count": 28
        }
      ]
    },
    {
      "cell_type": "code",
      "source": [
        "# compute z for one element using loop\n",
        "x = np.array([1, 2, 3])\n",
        "w= np.array([0.5, 0.3, 0.2])\n",
        "b = 0.4\n",
        "z = b\n",
        "\n",
        "for i in range(len(x)):\n",
        "    z += x[i]*w[i]\n",
        "\n",
        "print(z)"
      ],
      "metadata": {
        "colab": {
          "base_uri": "https://localhost:8080/"
        },
        "id": "xYRSVvcpkfVf",
        "outputId": "b942092b-84e8-4d79-ad81-ba6145acbba6"
      },
      "execution_count": 29,
      "outputs": [
        {
          "output_type": "stream",
          "name": "stdout",
          "text": [
            "2.1\n"
          ]
        }
      ]
    },
    {
      "cell_type": "code",
      "source": [
        "# compute the activation\n",
        "a = sigmoid(z)\n",
        "print(a)"
      ],
      "metadata": {
        "colab": {
          "base_uri": "https://localhost:8080/"
        },
        "id": "kFfyXdTIlq0k",
        "outputId": "afbaa2eb-09e3-45cd-9505-13b0a4425c0e"
      },
      "execution_count": 30,
      "outputs": [
        {
          "output_type": "stream",
          "name": "stdout",
          "text": [
            "0.8909031788043871\n"
          ]
        }
      ]
    },
    {
      "cell_type": "code",
      "source": [
        "# compute the activation but using vectorize approach\n",
        "sigmoid(np.dot(w.T, x) + b)"
      ],
      "metadata": {
        "colab": {
          "base_uri": "https://localhost:8080/"
        },
        "id": "ObdOGVjNl9s_",
        "outputId": "7b0224c0-30ff-4b30-8200-f46717c0ec88"
      },
      "execution_count": 31,
      "outputs": [
        {
          "output_type": "execute_result",
          "data": {
            "text/plain": [
              "0.8909031788043871"
            ]
          },
          "metadata": {},
          "execution_count": 31
        }
      ]
    },
    {
      "cell_type": "markdown",
      "source": [
        "Let's generalize the activation calculation to a set of elements (your training data) using vectorization"
      ],
      "metadata": {
        "id": "vkzGQNnsVBMe"
      }
    },
    {
      "cell_type": "code",
      "source": [
        "# build the X matrix with the right orientation (dimensions)\n",
        "X = np.array([[1, 2, 3], [1.5, 3.1, 4], [5, 6, 3]]).T\n",
        "print(X)"
      ],
      "metadata": {
        "colab": {
          "base_uri": "https://localhost:8080/"
        },
        "id": "Eluhunvzomiu",
        "outputId": "7e9ecd15-b505-46f9-d730-34e6536868f2"
      },
      "execution_count": 32,
      "outputs": [
        {
          "output_type": "stream",
          "name": "stdout",
          "text": [
            "[[1.  1.5 5. ]\n",
            " [2.  3.1 6. ]\n",
            " [3.  4.  3. ]]\n"
          ]
        }
      ]
    },
    {
      "cell_type": "code",
      "source": [
        "print(\"x(1,1) :\",X[0,0])\n",
        "print(\"x(2,3) :\",X[1,2])"
      ],
      "metadata": {
        "colab": {
          "base_uri": "https://localhost:8080/"
        },
        "id": "MbfW3l05rIcj",
        "outputId": "9914e3ee-feed-4131-953b-c3cc697b71da"
      },
      "execution_count": 33,
      "outputs": [
        {
          "output_type": "stream",
          "name": "stdout",
          "text": [
            "x(1,1) : 1.0\n",
            "x(2,3) : 6.0\n"
          ]
        }
      ]
    },
    {
      "cell_type": "code",
      "source": [
        "# check the shape of w.\n",
        "w.shape# ===> but this is the dim we need (3 , 1)"
      ],
      "metadata": {
        "colab": {
          "base_uri": "https://localhost:8080/"
        },
        "id": "by_kL6rhsFxN",
        "outputId": "e1d74a9e-def4-4776-ab15-dc68b6bd896e"
      },
      "execution_count": 34,
      "outputs": [
        {
          "output_type": "execute_result",
          "data": {
            "text/plain": [
              "(3,)"
            ]
          },
          "metadata": {},
          "execution_count": 34
        }
      ]
    },
    {
      "cell_type": "code",
      "source": [
        "# use reshape to adjust the dimensions\n",
        "w= w.reshape(len(w),1)"
      ],
      "metadata": {
        "id": "u1kc_DTetL1Q"
      },
      "execution_count": 35,
      "outputs": []
    },
    {
      "cell_type": "code",
      "source": [
        "print(\"w dim: \", w.shape)\n",
        "print(\"X dim: \", X.shape)"
      ],
      "metadata": {
        "colab": {
          "base_uri": "https://localhost:8080/"
        },
        "id": "qw_vCTSitlkq",
        "outputId": "27d63b0d-0dbf-44c6-e518-a23432e7e7e0"
      },
      "execution_count": 36,
      "outputs": [
        {
          "output_type": "stream",
          "name": "stdout",
          "text": [
            "w dim:  (3, 1)\n",
            "X dim:  (3, 3)\n"
          ]
        }
      ]
    },
    {
      "cell_type": "code",
      "source": [
        "# compute Z of all elements\n",
        "Z = np.dot(w.T, X) + b\n",
        "print(Z)"
      ],
      "metadata": {
        "colab": {
          "base_uri": "https://localhost:8080/"
        },
        "id": "RWa3jOfcuJ9V",
        "outputId": "1b0658ad-fefa-42d1-9d7f-32e1ceee451f"
      },
      "execution_count": 37,
      "outputs": [
        {
          "output_type": "stream",
          "name": "stdout",
          "text": [
            "[[2.1  2.88 5.3 ]]\n"
          ]
        }
      ]
    },
    {
      "cell_type": "code",
      "source": [
        "Z.shape"
      ],
      "metadata": {
        "colab": {
          "base_uri": "https://localhost:8080/"
        },
        "id": "Z6_YHWAPutPQ",
        "outputId": "3f06ee69-c929-47f7-9ef2-1b99eaf3c189"
      },
      "execution_count": 38,
      "outputs": [
        {
          "output_type": "execute_result",
          "data": {
            "text/plain": [
              "(1, 3)"
            ]
          },
          "metadata": {},
          "execution_count": 38
        }
      ]
    },
    {
      "cell_type": "code",
      "source": [
        "# compute activation of all elements\n",
        "A = sigmoid(Z)\n",
        "print(A)"
      ],
      "metadata": {
        "colab": {
          "base_uri": "https://localhost:8080/"
        },
        "id": "DFUjYcCcvKfm",
        "outputId": "601ffdbe-0d42-4780-db7c-12d92fce33fa"
      },
      "execution_count": 39,
      "outputs": [
        {
          "output_type": "stream",
          "name": "stdout",
          "text": [
            "[[0.89090318 0.94684886 0.9950332 ]]\n"
          ]
        }
      ]
    },
    {
      "cell_type": "markdown",
      "source": [
        "Let's now compute the two versions of cost function:  \n",
        "- Least square: $\\text{Cost} =  \\sum_{i=1}^{m} (y_i - \\hat{y}_i)^2$\n",
        "- Log loos: $- \\frac{1}{m} \\sum_{i=1}^{m} \\left( y_i \\log(\\hat{y}_i) + (1 - y_i) \\log(1 - \\hat{y}_i) \\right)$"
      ],
      "metadata": {
        "id": "GBocPoL4Vv47"
      }
    },
    {
      "cell_type": "code",
      "source": [
        "# Y is the vector that contains the real values\n",
        "Y = np.array([[1, 0, 1]])\n",
        "print(Y.shape)"
      ],
      "metadata": {
        "colab": {
          "base_uri": "https://localhost:8080/"
        },
        "id": "B7o08lHOy8yX",
        "outputId": "384ebc01-0b98-4105-fe2e-f7d37db18165"
      },
      "execution_count": 40,
      "outputs": [
        {
          "output_type": "stream",
          "name": "stdout",
          "text": [
            "(1, 3)\n"
          ]
        }
      ]
    },
    {
      "cell_type": "code",
      "source": [
        "D = A - Y\n",
        "print(D)"
      ],
      "metadata": {
        "colab": {
          "base_uri": "https://localhost:8080/"
        },
        "id": "SYzJzWP5zbpn",
        "outputId": "4715c340-6f33-414a-d540-6b1d9dc1bc53"
      },
      "execution_count": 41,
      "outputs": [
        {
          "output_type": "stream",
          "name": "stdout",
          "text": [
            "[[-0.10909682  0.94684886 -0.0049668 ]]\n"
          ]
        }
      ]
    },
    {
      "cell_type": "code",
      "source": [
        "# Least square\n",
        "np.dot(D,D.T)"
      ],
      "metadata": {
        "colab": {
          "base_uri": "https://localhost:8080/"
        },
        "id": "ZrdaSxSZzpmS",
        "outputId": "94d4dc29-cff2-43e0-9cfb-158e2c4bf166"
      },
      "execution_count": 42,
      "outputs": [
        {
          "output_type": "execute_result",
          "data": {
            "text/plain": [
              "array([[0.90844956]])"
            ]
          },
          "metadata": {},
          "execution_count": 42
        }
      ]
    },
    {
      "cell_type": "code",
      "source": [
        "np.sum(D*D)"
      ],
      "metadata": {
        "colab": {
          "base_uri": "https://localhost:8080/"
        },
        "id": "miaDz7xyzyKw",
        "outputId": "15be2eeb-504f-4252-b60e-3df2f4eb432c"
      },
      "execution_count": 43,
      "outputs": [
        {
          "output_type": "execute_result",
          "data": {
            "text/plain": [
              "0.9084495560178965"
            ]
          },
          "metadata": {},
          "execution_count": 43
        }
      ]
    },
    {
      "cell_type": "code",
      "source": [
        "# log loss\n",
        "m = Y.shape[1]\n",
        "\n",
        "-1/m * np.sum(Y*np.log(A) + (1-Y)*np.log(1-A))\n",
        "\n"
      ],
      "metadata": {
        "colab": {
          "base_uri": "https://localhost:8080/"
        },
        "id": "M1MjtrE70v5f",
        "outputId": "7e28e705-2ee1-4c9b-d780-0314b8d488bc"
      },
      "execution_count": 44,
      "outputs": [
        {
          "output_type": "execute_result",
          "data": {
            "text/plain": [
              "1.0183714979486944"
            ]
          },
          "metadata": {},
          "execution_count": 44
        }
      ]
    }
  ]
}