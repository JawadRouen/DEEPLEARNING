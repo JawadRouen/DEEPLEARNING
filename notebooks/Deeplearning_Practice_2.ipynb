{
  "nbformat": 4,
  "nbformat_minor": 0,
  "metadata": {
    "colab": {
      "provenance": []
    },
    "kernelspec": {
      "name": "python3",
      "display_name": "Python 3"
    },
    "language_info": {
      "name": "python"
    }
  },
  "cells": [
    {
      "cell_type": "markdown",
      "source": [
        "\n",
        "$sigmoid(x) = \\frac{1}{1+e^{-x}}$ is sometimes also known as the logistic function. It is a non-linear function used not only in Machine Learning (Logistic Regression), but also in Deep Learning.\n",
        "\n",
        "Let's first build a function to compute $sigmoid(x)$."
      ],
      "metadata": {
        "id": "ice7hpl7aZm2"
      }
    },
    {
      "cell_type": "code",
      "source": [
        "import math\n",
        "import numpy as np\n",
        "\n",
        "x = np.array([1, 2, 3])\n",
        "# try to run this first line\n",
        "#print(math.exp(x))\n",
        "print(np.exp(x))\n"
      ],
      "metadata": {
        "colab": {
          "base_uri": "https://localhost:8080/"
        },
        "id": "zZObZh59jRVa",
        "outputId": "6d76276a-55c1-4fbc-eb3b-ef5ab64699c3"
      },
      "execution_count": 2,
      "outputs": [
        {
          "output_type": "stream",
          "name": "stdout",
          "text": [
            "[ 2.71828183  7.3890561  20.08553692]\n"
          ]
        }
      ]
    },
    {
      "cell_type": "code",
      "execution_count": 3,
      "metadata": {
        "colab": {
          "base_uri": "https://localhost:8080/"
        },
        "id": "K_u8HmIjZxvr",
        "outputId": "c158168d-06a7-41dc-e3e1-f533cbcd4e40"
      },
      "outputs": [
        {
          "output_type": "execute_result",
          "data": {
            "text/plain": [
              "0.9525741268224334"
            ]
          },
          "metadata": {},
          "execution_count": 3
        }
      ],
      "source": [
        "# using math package\n",
        "def basic_sigmoid(x):\n",
        "    return 1/(1+math.exp(-x))\n",
        "\n",
        "basic_sigmoid(3)"
      ]
    },
    {
      "cell_type": "code",
      "source": [
        "# using numpy package\n",
        "def sigmoid(x):\n",
        "    return 1/(1+np.exp(-x))\n",
        "\n",
        "sigmoid(x)"
      ],
      "metadata": {
        "colab": {
          "base_uri": "https://localhost:8080/"
        },
        "id": "wwZBhSgQj1Ra",
        "outputId": "c071b961-69fb-4cea-b738-700b89e9befe"
      },
      "execution_count": 4,
      "outputs": [
        {
          "output_type": "execute_result",
          "data": {
            "text/plain": [
              "array([0.73105858, 0.88079708, 0.95257413])"
            ]
          },
          "metadata": {},
          "execution_count": 4
        }
      ]
    },
    {
      "cell_type": "code",
      "source": [
        "# compute z for one element using loop\n",
        "x = np.array([1, 2, 3])\n",
        "w= np.array([0.5, 0.3, 0.2])\n",
        "b = 0.4\n",
        "z = b\n",
        "\n",
        "for i in range(len(x)):\n",
        "    z += x[i]*w[i]\n",
        "\n",
        "print(z)"
      ],
      "metadata": {
        "colab": {
          "base_uri": "https://localhost:8080/"
        },
        "id": "xYRSVvcpkfVf",
        "outputId": "a59e6177-1634-4f94-a9ac-4d9a6279cfa9"
      },
      "execution_count": 5,
      "outputs": [
        {
          "output_type": "stream",
          "name": "stdout",
          "text": [
            "2.1\n"
          ]
        }
      ]
    },
    {
      "cell_type": "code",
      "source": [
        "# compute the activation\n",
        "a = sigmoid(z)\n",
        "print(a)"
      ],
      "metadata": {
        "colab": {
          "base_uri": "https://localhost:8080/"
        },
        "id": "kFfyXdTIlq0k",
        "outputId": "db9e4ca5-1374-4dfe-a999-c3780aba79b1"
      },
      "execution_count": 6,
      "outputs": [
        {
          "output_type": "stream",
          "name": "stdout",
          "text": [
            "0.8909031788043871\n"
          ]
        }
      ]
    },
    {
      "cell_type": "code",
      "source": [
        "# compute the activation but using vectorize approach\n",
        "sigmoid(np.dot(w.T, x) + b)"
      ],
      "metadata": {
        "colab": {
          "base_uri": "https://localhost:8080/"
        },
        "id": "ObdOGVjNl9s_",
        "outputId": "3b9113ca-3c20-4b2a-c0d2-89783779ca9d"
      },
      "execution_count": 7,
      "outputs": [
        {
          "output_type": "execute_result",
          "data": {
            "text/plain": [
              "0.8909031788043871"
            ]
          },
          "metadata": {},
          "execution_count": 7
        }
      ]
    },
    {
      "cell_type": "markdown",
      "source": [
        "Let's generalize the activation calculation to a set of elements (your training data) using vectorization"
      ],
      "metadata": {
        "id": "vkzGQNnsVBMe"
      }
    },
    {
      "cell_type": "code",
      "source": [
        "# build the X matrix with the right orientation (dimensions)\n",
        "X = np.array([[1, 2, 3], [1.5, 3.1, 4], [5, 6, 3]]).T\n",
        "print(X)"
      ],
      "metadata": {
        "colab": {
          "base_uri": "https://localhost:8080/"
        },
        "id": "Eluhunvzomiu",
        "outputId": "83871a9d-5a94-4ec4-df80-57c2e5ac7da5"
      },
      "execution_count": 8,
      "outputs": [
        {
          "output_type": "stream",
          "name": "stdout",
          "text": [
            "[[1.  1.5 5. ]\n",
            " [2.  3.1 6. ]\n",
            " [3.  4.  3. ]]\n"
          ]
        }
      ]
    },
    {
      "cell_type": "code",
      "source": [
        "print(\"x(1,1) :\",X[0,0])\n",
        "print(\"x(2,3) :\",X[1,2])"
      ],
      "metadata": {
        "colab": {
          "base_uri": "https://localhost:8080/"
        },
        "id": "MbfW3l05rIcj",
        "outputId": "edcf7349-903e-4e1c-aab4-24459eb78214"
      },
      "execution_count": 9,
      "outputs": [
        {
          "output_type": "stream",
          "name": "stdout",
          "text": [
            "x(1,1) : 1.0\n",
            "x(2,3) : 6.0\n"
          ]
        }
      ]
    },
    {
      "cell_type": "code",
      "source": [
        "# check the shape of w.\n",
        "w.shape# ===> but this is the dim we need (3 , 1)"
      ],
      "metadata": {
        "colab": {
          "base_uri": "https://localhost:8080/"
        },
        "id": "by_kL6rhsFxN",
        "outputId": "76c7f661-a78c-4172-a2b5-a617c0ad58b9"
      },
      "execution_count": 10,
      "outputs": [
        {
          "output_type": "execute_result",
          "data": {
            "text/plain": [
              "(3,)"
            ]
          },
          "metadata": {},
          "execution_count": 10
        }
      ]
    },
    {
      "cell_type": "code",
      "source": [
        "# use reshape to adjust the dimensions\n",
        "w= w.reshape(len(w),1)"
      ],
      "metadata": {
        "id": "u1kc_DTetL1Q"
      },
      "execution_count": 11,
      "outputs": []
    },
    {
      "cell_type": "code",
      "source": [
        "print(\"w dim: \", w.shape)\n",
        "print(\"X dim: \", X.shape)"
      ],
      "metadata": {
        "colab": {
          "base_uri": "https://localhost:8080/"
        },
        "id": "qw_vCTSitlkq",
        "outputId": "8177f94f-64b6-4096-c5bf-581f819153bc"
      },
      "execution_count": 12,
      "outputs": [
        {
          "output_type": "stream",
          "name": "stdout",
          "text": [
            "w dim:  (3, 1)\n",
            "X dim:  (3, 3)\n"
          ]
        }
      ]
    },
    {
      "cell_type": "code",
      "source": [
        "# compute Z of all elements\n",
        "Z = np.dot(w.T, X) + b\n",
        "print(Z)"
      ],
      "metadata": {
        "colab": {
          "base_uri": "https://localhost:8080/"
        },
        "id": "RWa3jOfcuJ9V",
        "outputId": "1fb44d56-58d9-43d8-94c6-fadc3d7fa6a6"
      },
      "execution_count": 13,
      "outputs": [
        {
          "output_type": "stream",
          "name": "stdout",
          "text": [
            "[[2.1  2.88 5.3 ]]\n"
          ]
        }
      ]
    },
    {
      "cell_type": "code",
      "source": [
        "Z.shape"
      ],
      "metadata": {
        "colab": {
          "base_uri": "https://localhost:8080/"
        },
        "id": "Z6_YHWAPutPQ",
        "outputId": "a4b37ad6-e7e6-45ea-c261-cc203d0ac81b"
      },
      "execution_count": 14,
      "outputs": [
        {
          "output_type": "execute_result",
          "data": {
            "text/plain": [
              "(1, 3)"
            ]
          },
          "metadata": {},
          "execution_count": 14
        }
      ]
    },
    {
      "cell_type": "code",
      "source": [
        "# compute activation of all elements\n",
        "A = sigmoid(Z)\n",
        "print(A)"
      ],
      "metadata": {
        "colab": {
          "base_uri": "https://localhost:8080/"
        },
        "id": "DFUjYcCcvKfm",
        "outputId": "dd8c0809-b28c-400b-8e99-84c44e9a6942"
      },
      "execution_count": 15,
      "outputs": [
        {
          "output_type": "stream",
          "name": "stdout",
          "text": [
            "[[0.89090318 0.94684886 0.9950332 ]]\n"
          ]
        }
      ]
    },
    {
      "cell_type": "markdown",
      "source": [
        "Let's now compute the two versions of cost function:  \n",
        "- Least square: $\\text{Cost} =  \\sum_{i=1}^{m} (y_i - \\hat{y}_i)^2$\n",
        "- Log loos: $- \\frac{1}{m} \\sum_{i=1}^{m} \\left( y_i \\log(\\hat{y}_i) + (1 - y_i) \\log(1 - \\hat{y}_i) \\right)$"
      ],
      "metadata": {
        "id": "GBocPoL4Vv47"
      }
    },
    {
      "cell_type": "code",
      "source": [
        "# Y is the vector that contains the real values\n",
        "Y = np.array([[1, 0, 1]])\n",
        "print(Y.shape)"
      ],
      "metadata": {
        "colab": {
          "base_uri": "https://localhost:8080/"
        },
        "id": "B7o08lHOy8yX",
        "outputId": "9491452e-ec70-47df-df84-f82672984483"
      },
      "execution_count": 16,
      "outputs": [
        {
          "output_type": "stream",
          "name": "stdout",
          "text": [
            "(1, 3)\n"
          ]
        }
      ]
    },
    {
      "cell_type": "code",
      "source": [
        "D = A - Y\n",
        "print(D)"
      ],
      "metadata": {
        "colab": {
          "base_uri": "https://localhost:8080/"
        },
        "id": "SYzJzWP5zbpn",
        "outputId": "df73af71-9627-4fa0-d882-3eaab24de4ed"
      },
      "execution_count": 17,
      "outputs": [
        {
          "output_type": "stream",
          "name": "stdout",
          "text": [
            "[[-0.10909682  0.94684886 -0.0049668 ]]\n"
          ]
        }
      ]
    },
    {
      "cell_type": "code",
      "source": [
        "# Least square\n",
        "np.dot(D,D.T)"
      ],
      "metadata": {
        "colab": {
          "base_uri": "https://localhost:8080/"
        },
        "id": "ZrdaSxSZzpmS",
        "outputId": "1c7756db-78e3-4744-b4ab-69d0c757105f"
      },
      "execution_count": 18,
      "outputs": [
        {
          "output_type": "execute_result",
          "data": {
            "text/plain": [
              "array([[0.90844956]])"
            ]
          },
          "metadata": {},
          "execution_count": 18
        }
      ]
    },
    {
      "cell_type": "code",
      "source": [
        "np.sum(D*D)"
      ],
      "metadata": {
        "colab": {
          "base_uri": "https://localhost:8080/"
        },
        "id": "miaDz7xyzyKw",
        "outputId": "baefa522-6c95-48c0-bd10-49c04d9b0a0b"
      },
      "execution_count": 19,
      "outputs": [
        {
          "output_type": "execute_result",
          "data": {
            "text/plain": [
              "0.9084495560178965"
            ]
          },
          "metadata": {},
          "execution_count": 19
        }
      ]
    },
    {
      "cell_type": "code",
      "source": [
        "# log loss\n",
        "m = Y.shape[1]\n",
        "\n",
        "-1/m * np.sum(Y*np.log(A) + (1-Y)*np.log(1-A))\n",
        "\n"
      ],
      "metadata": {
        "colab": {
          "base_uri": "https://localhost:8080/"
        },
        "id": "M1MjtrE70v5f",
        "outputId": "23e9647c-c341-4e70-8229-13757477eab0"
      },
      "execution_count": 20,
      "outputs": [
        {
          "output_type": "execute_result",
          "data": {
            "text/plain": [
              "1.0183714979486944"
            ]
          },
          "metadata": {},
          "execution_count": 20
        }
      ]
    },
    {
      "cell_type": "code",
      "source": [],
      "metadata": {
        "id": "2QSr_QTW5Yjk"
      },
      "execution_count": 20,
      "outputs": []
    },
    {
      "cell_type": "markdown",
      "source": [
        "Initial state of the params"
      ],
      "metadata": {
        "id": "2-MLRRe85ZUl"
      }
    },
    {
      "cell_type": "code",
      "source": [
        "print(\"W: \", w)\n",
        "print(\"b: \", b)"
      ],
      "metadata": {
        "colab": {
          "base_uri": "https://localhost:8080/"
        },
        "id": "DnoZ8ukJ5O6G",
        "outputId": "51b80e98-33e4-45f0-b8a1-0ee257f59e03"
      },
      "execution_count": 21,
      "outputs": [
        {
          "output_type": "stream",
          "name": "stdout",
          "text": [
            "W:  [[0.5]\n",
            " [0.3]\n",
            " [0.2]]\n",
            "b:  0.4\n"
          ]
        }
      ]
    },
    {
      "cell_type": "markdown",
      "source": [
        "Compute gradients:\n",
        "- $w_j := w_j - \\alpha \\frac{1}{m} \\sum_{i=1}^{m} (a_i - y_i) x_{ij}$\n",
        "\n",
        "- $b := b - \\alpha \\frac{1}{m} \\sum_{i=1}^{m} (a_i - y_i)$\n"
      ],
      "metadata": {
        "id": "jU0uuAQB5n09"
      }
    },
    {
      "cell_type": "code",
      "source": [
        "alpha = 0.01"
      ],
      "metadata": {
        "id": "iHITZ16-6h-l"
      },
      "execution_count": 22,
      "outputs": []
    },
    {
      "cell_type": "markdown",
      "source": [],
      "metadata": {
        "id": "epmblwqR5lC9"
      }
    },
    {
      "cell_type": "code",
      "source": [
        "delta_b = np.sum(A-Y)/m\n",
        "delta_w = np.dot(X, (A-Y).T)/m"
      ],
      "metadata": {
        "id": "VQrjUY1m5O8N"
      },
      "execution_count": 23,
      "outputs": []
    },
    {
      "cell_type": "code",
      "source": [
        "w - alpha * delta_w"
      ],
      "metadata": {
        "colab": {
          "base_uri": "https://localhost:8080/"
        },
        "id": "AxLzvcuj6Ecm",
        "outputId": "ed217448-b637-4f5c-94e8-8022626020f4"
      },
      "execution_count": 24,
      "outputs": [
        {
          "output_type": "execute_result",
          "data": {
            "text/plain": [
              "array([[0.49571219],\n",
              "       [0.29104254],\n",
              "       [0.18851598]])"
            ]
          },
          "metadata": {},
          "execution_count": 24
        }
      ]
    },
    {
      "cell_type": "code",
      "source": [
        "b - alpha * delta_b"
      ],
      "metadata": {
        "colab": {
          "base_uri": "https://localhost:8080/"
        },
        "id": "asbLGy6v6CGV",
        "outputId": "4ffdcdf4-72c2-4f66-d3f3-457bec2dc4b8"
      },
      "execution_count": 25,
      "outputs": [
        {
          "output_type": "execute_result",
          "data": {
            "text/plain": [
              "0.3972240491974791"
            ]
          },
          "metadata": {},
          "execution_count": 25
        }
      ]
    },
    {
      "cell_type": "markdown",
      "source": [
        "Create forward and Backward propagantion fronctions"
      ],
      "metadata": {
        "id": "obO-i9U08ayy"
      }
    },
    {
      "cell_type": "code",
      "source": [
        "def forward(w, b, X, Y):\n",
        "  predictions = sigmoid(np.dot(w.T, X) + b)\n",
        "  cost = -1/m * np.sum(Y*np.log(predictions) + (1-Y)*np.log(1-predictions))\n",
        "  return predictions, cost"
      ],
      "metadata": {
        "id": "LCwScjt98lWr"
      },
      "execution_count": 26,
      "outputs": []
    },
    {
      "cell_type": "code",
      "source": [
        "def backward(w, b, X, Y, A):\n",
        "  m = X.shape[1]  # number of examples\n",
        "  delta_w = np.dot(X, (A - Y).T) / m\n",
        "  delta_b = np.sum(A - Y) / m\n",
        "  new_w = w - alpha * delta_w\n",
        "  new_b = b - alpha * delta_b\n",
        "  return new_w, new_b"
      ],
      "metadata": {
        "id": "-FBHzfOm8lhK"
      },
      "execution_count": 1,
      "outputs": []
    },
    {
      "cell_type": "code",
      "source": [
        "w"
      ],
      "metadata": {
        "colab": {
          "base_uri": "https://localhost:8080/"
        },
        "id": "0qKkWRMO_TcN",
        "outputId": "2717a0ac-4356-4bd4-da90-e11cfb5b36c8"
      },
      "execution_count": 27,
      "outputs": [
        {
          "output_type": "execute_result",
          "data": {
            "text/plain": [
              "array([[0.5],\n",
              "       [0.3],\n",
              "       [0.2]])"
            ]
          },
          "metadata": {},
          "execution_count": 27
        }
      ]
    },
    {
      "cell_type": "code",
      "source": [
        "# run a loop of 100 steps using backward and forward and plot the cost function\n",
        "w_it=np.random.rand(3,1)\n",
        "b_it=0\n",
        "cost_values = []\n",
        "alpha = 0.01\n",
        "for i in range(1000):\n",
        "  predictions, cost = forward(w_it, b_it, X, Y)\n",
        "  w_it, b_it = backward(w_it, b_it, X, Y, predictions)\n",
        "  cost_values.append(cost)"
      ],
      "metadata": {
        "id": "4iAuJIsf-ap3"
      },
      "execution_count": 30,
      "outputs": []
    },
    {
      "cell_type": "code",
      "source": [
        "#plot cost_values\n",
        "import matplotlib.pyplot as plt\n",
        "plt.plot(cost_values)"
      ],
      "metadata": {
        "colab": {
          "base_uri": "https://localhost:8080/",
          "height": 447
        },
        "id": "OODSrVCjA38G",
        "outputId": "215f8889-d88c-4043-c365-736f3b0a66c9"
      },
      "execution_count": 31,
      "outputs": [
        {
          "output_type": "execute_result",
          "data": {
            "text/plain": [
              "[<matplotlib.lines.Line2D at 0x7a0a6df76e00>]"
            ]
          },
          "metadata": {},
          "execution_count": 31
        },
        {
          "output_type": "display_data",
          "data": {
            "text/plain": [
              "<Figure size 640x480 with 1 Axes>"
            ],
            "image/png": "[encoded data removed]"
          },
          "metadata": {}
        }
      ]
    }
  ]
}